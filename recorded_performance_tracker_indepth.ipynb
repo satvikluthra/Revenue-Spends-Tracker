{
 "cells": [
  {
   "cell_type": "markdown",
   "metadata": {},
   "source": [
    "## Importing gspread module, pandas & service account. \n",
    "\n",
    "### Modules and its use cases.\n",
    "\n",
    "* Gspread: To read, write & update data into google sheets. \n",
    "* pprint: To present the data in a better format. \n",
    "* service account: To connect with `google api`. "
   ]
  },
  {
   "cell_type": "code",
   "execution_count": 1,
   "metadata": {},
   "outputs": [],
   "source": [
    "import gspread\n",
    "from oauth2client.service_account import ServiceAccountCredentials\n",
    "import pandas as pd\n",
    "import csv\n",
    "from datetime import date\n",
    "import json\n",
    "import requests\n",
    "\n",
    "\n",
    "scope = [\"https://spreadsheets.google.com/feeds\",\n",
    "        'https://www.googleapis.com/auth/spreadsheets',\n",
    "        \"https://www.googleapis.com/auth/drive.file\",\n",
    "        \"https://www.googleapis.com/auth/drive\"]\n",
    "\n",
    "creds = ServiceAccountCredentials.from_json_keyfile_name(\"/Users/satvik/Desktop/Project/creds.json\", scope)\n",
    "\n",
    "google_sheet = gspread.authorize(creds)\n"
   ]
  },
  {
   "cell_type": "markdown",
   "metadata": {},
   "source": [
    "### Integrating metabase \n",
    "\n",
    "* Generating the token \n",
    "* Getting the data from the application card i.e. `Query`\n",
    "* Printing the data"
   ]
  },
  {
   "cell_type": "code",
   "execution_count": 2,
   "metadata": {},
   "outputs": [
    {
     "name": "stdout",
     "output_type": "stream",
     "text": [
      "got the token\n",
      "getting the data\n",
      "saving\n"
     ]
    }
   ],
   "source": [
    "\n",
    "\n",
    "def get_token():\n",
    "    res = requests.post('http://metabase.frontrow.co.in/api/session', \n",
    "                        headers = {\"Content-Type\": \"application/json\"},\n",
    "                        json =  {\"username\": \"user-name\", \n",
    "                                \"password\": 'password'}\n",
    "                    )\n",
    "    assert res.ok == True\n",
    "    print(\"got the token\")\n",
    "    return res.json()['id']\n",
    "\n",
    "def get_data(token, card_id):\n",
    "    url = f'http://metabase.frontrow.co.in/api/card/{card_id}/query/json'\n",
    "    headers = {\n",
    "        'Content-Type': 'application/json',\n",
    "        'X-Metabase-Session': token\n",
    "    }\n",
    "    print(\"getting the data\")\n",
    "    response = requests.post(url, headers=headers)\n",
    "\n",
    "    df = pd.DataFrame(response.json())\n",
    "    print(\"saving\")\n",
    "    return df\n",
    "    \n",
    "\n",
    "token = get_token()\n",
    "front_row_csv = get_data(token, 222)"
   ]
  },
  {
   "cell_type": "markdown",
   "metadata": {},
   "source": [
    "### Creating CSV \n",
    "* Converting Data Frame into CSV"
   ]
  },
  {
   "cell_type": "code",
   "execution_count": 3,
   "metadata": {},
   "outputs": [
    {
     "name": "stderr",
     "output_type": "stream",
     "text": [
      "/var/folders/qh/3p8ysdvd7_l6wsdl6hm_tv_m0000gn/T/ipykernel_43880/1711510909.py:33: FutureWarning: In a future version of pandas all arguments of DataFrame.drop except for the argument 'labels' will be keyword-only.\n",
      "  dataframe= dataframe.drop('paging',1)\n"
     ]
    },
    {
     "data": {
      "text/plain": [
       "{'spreadsheetId': '1XLTtnFKpf6zVqo-5wwsFSvljZJcooBfQ4cnKEp8lZ9Q',\n",
       " 'updatedRange': 'facebook_raw_data!A1:H376',\n",
       " 'updatedRows': 376,\n",
       " 'updatedColumns': 8,\n",
       " 'updatedCells': 3008}"
      ]
     },
     "execution_count": 3,
     "metadata": {},
     "output_type": "execute_result"
    }
   ],
   "source": [
    "from datetime import datetime\n",
    "\n",
    "now = datetime.now().strftime(\"%d-%m-%Y-%H-%M-%S\")\n",
    "\n",
    "metabase_revenue_sheet = f\"/Users/satvik/Desktop/Project/metabase_revenue_sheet_{now}.csv\"\n",
    "front_row_csv.to_csv(metabase_revenue_sheet, index=False)\n",
    "\n",
    "google_sheet_id = \"1XLTtnFKpf6zVqo-5wwsFSvljZJcooBfQ4cnKEp8lZ9Q\"\n",
    "google_sheet.insert_permission(\n",
    "    google_sheet_id,\n",
    "    None,\n",
    "    perm_type='anyone',\n",
    "    role='writer'\n",
    ")\n",
    "\n",
    "#Writing Data into from csv to Master-worksheet\n",
    "spread_sheet = google_sheet.open_by_key(google_sheet_id)\n",
    "spread_sheet.values_update(\n",
    "    'metabase_revenue_data',\n",
    "    params={'valueInputOption': 'USER_ENTERED'},\n",
    "    body={'values': list(csv.reader(open(metabase_revenue_sheet)))}\n",
    "    )\n",
    "\n",
    "\n",
    "def get_json_response(url):\n",
    "    headers = {\"Authorization\": \"Bearer {}\".format(access_token)}\n",
    "    response = requests.request(\"GET\", url, headers=headers)\n",
    "    if response.status_code != 200:\n",
    "        raise Exception(response.status_code, response.text)\n",
    "    \n",
    "    dataframe = pd.DataFrame.from_dict(response.json(), orient=\"index\")\n",
    "    dataframe = dataframe.transpose()\n",
    "    dataframe= dataframe.drop('paging',1)\n",
    "    \n",
    "    \n",
    "    campaign_id =[]\n",
    "    campaign_name =[]\n",
    "    total_spend =[]\n",
    "    date =[]\n",
    "    ctr = []\n",
    "    clicks = []\n",
    "    cpm = []\n",
    "    impressions = []\n",
    "\n",
    "    for i in range(dataframe.shape[0]):\n",
    "        date.append(dataframe['data'][i]['date_start'])\n",
    "        campaign_name.append(dataframe['data'][i]['campaign_name'])\n",
    "        campaign_id.append(dataframe['data'][i]['campaign_id'])\n",
    "        total_spend.append(dataframe['data'][i]['spend'])\n",
    "        ctr.append(dataframe['data'][i]['ctr'])\n",
    "        clicks.append(dataframe['data'][i]['clicks'])\n",
    "        cpm.append(dataframe['data'][i]['cpm'])\n",
    "        impressions.append(dataframe['data'][i]['impressions'])\n",
    "        \n",
    "        \n",
    "        \n",
    "    \n",
    "\n",
    "    newdataframe = pd.DataFrame({\"date\":date, \n",
    "                                \"campaign_name\":campaign_name,\n",
    "                                \"campaign_id\":campaign_id,\n",
    "                                \"total_cost\":total_spend,\n",
    "                                \"impressions\":impressions,\n",
    "                                \"cpm\":cpm, \n",
    "                                \"ctr\":ctr, \n",
    "                                \"clicks\":clicks, \n",
    "                                \n",
    "\n",
    "                                })\n",
    "                                \n",
    "    newdataframe = newdataframe[newdataframe.campaign_name.str.contains('Record')]\n",
    "\n",
    "    return newdataframe   \n",
    "\n",
    "access_token = \"token here\"\n",
    "url = f\"https://graph.facebook.com/v13.0/act_567744690350558/insights?date_preset=this_month&time_increment=1&limit=1000&level=campaign&fields=campaign_name%2Ccampaign_id%2Cspend%2Cctr%2Ccpm%2Cclicks%2Cimpressions&access_token={access_token}\"\n",
    "\n",
    "\n",
    "spends = get_json_response(url)\n",
    "\n",
    "spends_csv = f\"spends_indepth_{now}.csv\"\n",
    "spends.to_csv(spends_csv,index=False)\n",
    "\n",
    "spread_sheet.values_update(\n",
    "    'facebook_raw_data',\n",
    "    params={'valueInputOption': 'USER_ENTERED'},\n",
    "    body={'values': list(csv.reader(open(spends_csv)))}\n",
    "    )"
   ]
  },
  {
   "cell_type": "markdown",
   "metadata": {},
   "source": [
    "# Integrating Mixpannel Api\n",
    "* Importing data from mixpannel for: \n",
    "* Course view\n",
    "* Login Success\n",
    "* Purchases"
   ]
  },
  {
   "cell_type": "code",
   "execution_count": 4,
   "metadata": {},
   "outputs": [],
   "source": [
    "def get_mixpannel_data(funnel_id):\n",
    "    from datetime import date\n",
    "    from datetime import timedelta\n",
    "    import requests\n",
    "    today = date.today()\n",
    "\n",
    "    url = f\"https://mixpanel.com/api/2.0/funnels?project_id=2297403&funnel_id={funnel_id}&from_date=2022-05-01&to_date={today}\"\n",
    "\n",
    "    headers = {\n",
    "        \"Accept\": \"application/json\",\n",
    "        \"Authorization\": \"Basic api\"\n",
    "    }\n",
    "\n",
    "    response = requests.get(url, headers=headers)\n",
    "    response = response.json()\n",
    "    response = json.dumps(response, indent =4)\n",
    "\n",
    "    return response\n",
    "\n"
   ]
  },
  {
   "cell_type": "code",
   "execution_count": 5,
   "metadata": {},
   "outputs": [],
   "source": [
    "def get_metrics(response):\n",
    "    json_object = json.loads(response)\n",
    "    \n",
    "    dates_list = list(json_object['data'].keys())\n",
    "\n",
    "    dates_list.sort()\n",
    "    \n",
    "    course_view = []\n",
    "    login_success = []\n",
    "    course_id =[]\n",
    "\n",
    "        \n",
    "    for dates in dates_list:\n",
    "        course_view.append(json_object['data'][dates]['$overall'][0]['count'])\n",
    "        login_success.append(json_object['data'][dates]['$overall'][1]['count'])\n",
    "        course_id.append(json_object['data'][dates]['$overall'][0]['selector_params']['property_filter_params_list'][0]['filter']['operand'])\n",
    "\n",
    "\n",
    "    dataframe = pd.DataFrame({\"date\":dates_list,\n",
    "                                \"course_id\":course_id,\n",
    "                                \"course_view\":course_view, \n",
    "                                \"login_success\":login_success,\n",
    "                                    })\n",
    "\n",
    "    \n",
    "\n",
    "    return dataframe\n",
    "    "
   ]
  },
  {
   "cell_type": "markdown",
   "metadata": {},
   "source": [
    "### Driver Code\n",
    "\n",
    "* 29982401 - Neha\n",
    "* 29997207 - Amit\n",
    "* 29997221 - Swanand\n",
    "* 29997295 - Varun\n",
    "* 29997400 - Mortal\n",
    "* 29997924 - Punit\n",
    "* 29997925 - Dharmesh\n",
    "* 29997932 - Raftaar\n",
    "* 29997935 - Zakir\n",
    "* 29997944 - Vishal"
   ]
  },
  {
   "cell_type": "code",
   "execution_count": 6,
   "metadata": {},
   "outputs": [
    {
     "name": "stderr",
     "output_type": "stream",
     "text": [
      "/var/folders/qh/3p8ysdvd7_l6wsdl6hm_tv_m0000gn/T/ipykernel_43880/3560698731.py:17: FutureWarning: The frame.append method is deprecated and will be removed from pandas in a future version. Use pandas.concat instead.\n",
      "  df_mixpannel= df_mixpannel.append(metrics)\n",
      "/var/folders/qh/3p8ysdvd7_l6wsdl6hm_tv_m0000gn/T/ipykernel_43880/3560698731.py:17: FutureWarning: The frame.append method is deprecated and will be removed from pandas in a future version. Use pandas.concat instead.\n",
      "  df_mixpannel= df_mixpannel.append(metrics)\n",
      "/var/folders/qh/3p8ysdvd7_l6wsdl6hm_tv_m0000gn/T/ipykernel_43880/3560698731.py:17: FutureWarning: The frame.append method is deprecated and will be removed from pandas in a future version. Use pandas.concat instead.\n",
      "  df_mixpannel= df_mixpannel.append(metrics)\n",
      "/var/folders/qh/3p8ysdvd7_l6wsdl6hm_tv_m0000gn/T/ipykernel_43880/3560698731.py:17: FutureWarning: The frame.append method is deprecated and will be removed from pandas in a future version. Use pandas.concat instead.\n",
      "  df_mixpannel= df_mixpannel.append(metrics)\n",
      "/var/folders/qh/3p8ysdvd7_l6wsdl6hm_tv_m0000gn/T/ipykernel_43880/3560698731.py:17: FutureWarning: The frame.append method is deprecated and will be removed from pandas in a future version. Use pandas.concat instead.\n",
      "  df_mixpannel= df_mixpannel.append(metrics)\n",
      "/var/folders/qh/3p8ysdvd7_l6wsdl6hm_tv_m0000gn/T/ipykernel_43880/3560698731.py:17: FutureWarning: The frame.append method is deprecated and will be removed from pandas in a future version. Use pandas.concat instead.\n",
      "  df_mixpannel= df_mixpannel.append(metrics)\n",
      "/var/folders/qh/3p8ysdvd7_l6wsdl6hm_tv_m0000gn/T/ipykernel_43880/3560698731.py:17: FutureWarning: The frame.append method is deprecated and will be removed from pandas in a future version. Use pandas.concat instead.\n",
      "  df_mixpannel= df_mixpannel.append(metrics)\n",
      "/var/folders/qh/3p8ysdvd7_l6wsdl6hm_tv_m0000gn/T/ipykernel_43880/3560698731.py:17: FutureWarning: The frame.append method is deprecated and will be removed from pandas in a future version. Use pandas.concat instead.\n",
      "  df_mixpannel= df_mixpannel.append(metrics)\n"
     ]
    }
   ],
   "source": [
    "df_mixpannel =pd.DataFrame()\n",
    "funnel_ids = [29982401,\n",
    "            29997207,\n",
    "            29997221,\n",
    "            29997295,\n",
    "            29997400,\n",
    "            29997924,\n",
    "            29997925,\n",
    "            29997932,\n",
    "            29997935,\n",
    "            29997944\n",
    "             ]\n",
    "\n",
    "for ids in funnel_ids:\n",
    "    response = get_mixpannel_data(ids)\n",
    "    metrics = get_metrics(response)\n",
    "    df_mixpannel= df_mixpannel.append(metrics)\n",
    "\n",
    "df_mixpannel= df_mixpannel.sort_values(by=['date'], ascending=True)\n"
   ]
  },
  {
   "cell_type": "markdown",
   "metadata": {},
   "source": [
    "## Updating numbers in google sheets"
   ]
  },
  {
   "cell_type": "code",
   "execution_count": 7,
   "metadata": {},
   "outputs": [
    {
     "data": {
      "text/plain": [
       "{'spreadsheetId': '1XLTtnFKpf6zVqo-5wwsFSvljZJcooBfQ4cnKEp8lZ9Q',\n",
       " 'updatedRange': 'mixpannel_raw_data!A1:D211',\n",
       " 'updatedRows': 211,\n",
       " 'updatedColumns': 4,\n",
       " 'updatedCells': 844}"
      ]
     },
     "execution_count": 7,
     "metadata": {},
     "output_type": "execute_result"
    }
   ],
   "source": [
    "mixpannel_csv = f\"mixpannel_data_{now}.csv\"\n",
    "df_mixpannel.to_csv(mixpannel_csv,index=False)\n",
    "\n",
    "spread_sheet.values_update(\n",
    "    'mixpannel_raw_data',\n",
    "    params={'valueInputOption': 'USER_ENTERED'},\n",
    "    body={'values': list(csv.reader(open(mixpannel_csv)))}\n",
    "    )"
   ]
  }
 ],
 "metadata": {
  "interpreter": {
   "hash": "aee8b7b246df8f9039afb4144a1f6fd8d2ca17a180786b69acc140d282b71a49"
  },
  "kernelspec": {
   "display_name": "Python 3.10.2 64-bit",
   "language": "python",
   "name": "python3"
  },
  "language_info": {
   "codemirror_mode": {
    "name": "ipython",
    "version": 3
   },
   "file_extension": ".py",
   "mimetype": "text/x-python",
   "name": "python",
   "nbconvert_exporter": "python",
   "pygments_lexer": "ipython3",
   "version": "3.10.2"
  },
  "orig_nbformat": 4
 },
 "nbformat": 4,
 "nbformat_minor": 2
}
